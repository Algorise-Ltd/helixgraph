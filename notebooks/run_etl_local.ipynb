{
 "cells": [
  {
   "cell_type": "markdown",
   "metadata": {},
   "source": [
    "# HelixGraph ETL Pipeline\n",
    "\n",
    "This notebook demonstrates how to load the HR, Marketing, and Procurement datasets into Neo4j using the ETL framework."
   ]
  },
  {
   "cell_type": "markdown",
   "metadata": {},
   "source": [
    "## 1. Configure Project Path and Imports"
   ]
  },
  {
   "cell_type": "code",
   "execution_count": 1,
   "metadata": {},
   "outputs": [
    {
     "name": "stdout",
     "output_type": "stream",
     "text": [
      "Project root: /Users/ivan/FSFM/01_Courses/Coop/Helixgraph/HEL-20/HelixGraph\n",
      "✓ Added project root to Python path\n",
      "✓ ETL loaders imported successfully\n"
     ]
    }
   ],
   "source": [
    "# Set up project path (local Jupyter run)\n",
    "import sys\n",
    "import os\n",
    "\n",
    "# Locate project root (notebook is inside notebooks/ directory)\n",
    "project_root = os.path.abspath(os.path.join(os.getcwd(), '..'))\n",
    "print(f\"Project root: {project_root}\")\n",
    "\n",
    "if project_root not in sys.path:\n",
    "    sys.path.insert(0, project_root)\n",
    "    print(\"✓ Added project root to Python path\")\n",
    "\n",
    "try:\n",
    "    from etl import HRLoader, MarketingLoader, ProcurementLoader\n",
    "    from etl.utils import get_neo4j_config\n",
    "    print(\"✓ ETL loaders imported successfully\")\n",
    "except ImportError as e:\n",
    "    print(f\"✗ Import error: {e}\")\n",
    "    print(\"Ensure you are running this notebook from the project notebooks/ directory\")\n",
    "    print(\"Current directory:\", os.getcwd())"
   ]
  },
  {
   "cell_type": "markdown",
   "metadata": {},
   "source": [
    "## 2. Load Environment Configuration\n",
    "\n",
    "Read Neo4j credentials from the `.env` file located in the project root."
   ]
  },
  {
   "cell_type": "code",
   "execution_count": 2,
   "metadata": {},
   "outputs": [
    {
     "name": "stdout",
     "output_type": "stream",
     "text": [
      "✓ Loaded configuration from .env\n"
     ]
    }
   ],
   "source": [
    "# Load .env configuration\n",
    "from dotenv import load_dotenv\n",
    "\n",
    "# Locate and load .env file\n",
    "env_path = os.path.join(project_root, '.env')\n",
    "env_example_path = os.path.join(project_root, '.env.example')\n",
    "\n",
    "if os.path.exists(env_path):\n",
    "    load_dotenv(env_path)\n",
    "    print(\"✓ Loaded configuration from .env\")\n",
    "elif os.path.exists(env_example_path):\n",
    "    load_dotenv(env_example_path)\n",
    "    print(\"⚠️  Loaded configuration from .env.example\")\n",
    "    print(\"   Tip: duplicate .env.example as .env and update credentials\")\n",
    "else:\n",
    "    print(\"❌ .env or .env.example not found\")\n",
    "    print(\"   Please create an .env file or set environment variables\")"
   ]
  },
  {
   "cell_type": "markdown",
   "metadata": {},
   "source": [
    "## 3. Retrieve Neo4j Configuration"
   ]
  },
  {
   "cell_type": "code",
   "execution_count": 4,
   "metadata": {},
   "outputs": [
    {
     "name": "stdout",
     "output_type": "stream",
     "text": [
      "✓ Configuration loaded successfully\n",
      "  URI:      neo4j+s://561f8654.databases.neo4j.io\n",
      "  User:     neo4j\n",
      "  Database: neo4j\n"
     ]
    }
   ],
   "source": [
    "# Retrieve Neo4j configuration\n",
    "try:\n",
    "    config = get_neo4j_config()\n",
    "    print(\"✓ Configuration loaded successfully\")\n",
    "    print(f\"  URI:      {config['uri']}\")\n",
    "    print(f\"  User:     {config['user']}\")\n",
    "    print(\"  Database: neo4j\")\n",
    "except ValueError as e:\n",
    "    print(f\"❌ Configuration error: {e}\")\n",
    "    print(\"\\nPlease check:\")\n",
    "    print(\"1. .env file exists (or use .env.example)\")\n",
    "    print(\"2. Contains NEO4J_URI, NEO4J_USER, NEO4J_PASSWORD\")\n",
    "    print(\"\\nAlternatively set environment variables:\")\n",
    "    print(\"  export NEO4J_URI='...'\")\n",
    "    print(\"  export NEO4J_USER='...'\")\n",
    "    print(\"  export NEO4J_PASSWORD='...'\")\n",
    "    raise"
   ]
  },
  {
   "cell_type": "markdown",
   "metadata": {},
   "source": [
    "## 4. Run Multi-domain ETL Pipeline"
   ]
  },
  {
   "cell_type": "code",
   "execution_count": 8,
   "metadata": {},
   "outputs": [
    {
     "name": "stderr",
     "output_type": "stream",
     "text": [
      "2025-10-14 17:10:51 - HRLoader - INFO - Initialized HRLoader\n",
      "2025-10-14 17:10:51 - HRLoader - INFO - Connected to Neo4j at neo4j+s://561f8654.databases.neo4j.io\n",
      "2025-10-14 17:10:51 - HRLoader - INFO - Data directory: /Users/ivan/FSFM/01_Courses/Coop/Helixgraph/HEL-20/HelixGraph/data/hr\n"
     ]
    },
    {
     "name": "stdout",
     "output_type": "stream",
     "text": [
      "======================================================================\n",
      "[1] Loading HR data\n",
      "======================================================================\n",
      "- Testing connection...\n"
     ]
    },
    {
     "name": "stderr",
     "output_type": "stream",
     "text": [
      "2025-10-14 17:10:52 - HRLoader - INFO - ✓ Connection test successful\n",
      "2025-10-14 17:10:52 - HRLoader - WARNING - Clearing database...\n"
     ]
    },
    {
     "name": "stdout",
     "output_type": "stream",
     "text": [
      "- Clearing database before first load...\n"
     ]
    },
    {
     "name": "stderr",
     "output_type": "stream",
     "text": [
      "2025-10-14 17:10:52 - HRLoader - INFO - ✓ Database cleared\n",
      "2025-10-14 17:10:52 - HRLoader - INFO - ======================================================================\n",
      "2025-10-14 17:10:52 - HRLoader - INFO - Starting HR Data Load\n",
      "2025-10-14 17:10:52 - HRLoader - INFO - ======================================================================\n",
      "2025-10-14 17:10:52 - HRLoader - INFO - Loading data files...\n",
      "2025-10-14 17:10:52 - HRLoader - INFO - Loading employees from /Users/ivan/FSFM/01_Courses/Coop/Helixgraph/HEL-20/HelixGraph/data/hr/hr_employees.json\n",
      "2025-10-14 17:10:52 - HRLoader - INFO - ✓ Loaded 200 employees\n",
      "2025-10-14 17:10:52 - HRLoader - INFO - Loading skills from /Users/ivan/FSFM/01_Courses/Coop/Helixgraph/HEL-20/HelixGraph/data/hr/hr_skills.json\n",
      "2025-10-14 17:10:52 - HRLoader - INFO - ✓ Loaded 50 skills\n",
      "2025-10-14 17:10:52 - HRLoader - INFO - Loading employee-skills from /Users/ivan/FSFM/01_Courses/Coop/Helixgraph/HEL-20/HelixGraph/data/hr/hr_employee_skills.json\n",
      "2025-10-14 17:10:52 - HRLoader - INFO - ✓ Loaded 1496 employee-skill relationships\n",
      "2025-10-14 17:10:52 - HRLoader - INFO - Validating data with Pydantic schemas...\n",
      "2025-10-14 17:10:52 - HRLoader - INFO - Validated 200/200 records\n",
      "2025-10-14 17:10:52 - HRLoader - INFO - Validated 50/50 records\n",
      "2025-10-14 17:10:52 - HRLoader - INFO - Validated 1496/1496 records\n",
      "2025-10-14 17:10:52 - HRLoader - INFO - ✓ Data validation complete\n",
      "2025-10-14 17:10:52 - HRLoader - INFO - Setting up Neo4j schema...\n"
     ]
    },
    {
     "name": "stdout",
     "output_type": "stream",
     "text": [
      "- Running loader...\n"
     ]
    },
    {
     "name": "stderr",
     "output_type": "stream",
     "text": [
      "2025-10-14 17:10:53 - HRLoader - INFO - ✓ Schema setup complete\n",
      "2025-10-14 17:10:53 - HRLoader - INFO - Loading departments...\n",
      "2025-10-14 17:10:53 - HRLoader - INFO - Loading 6 records in batches of 50\n",
      "2025-10-14 17:10:53 - HRLoader - INFO - ✓ Loaded 6 records\n",
      "2025-10-14 17:10:53 - HRLoader - INFO - ✓ Loaded 6 departments\n",
      "2025-10-14 17:10:53 - HRLoader - INFO - Loading locations...\n",
      "2025-10-14 17:10:53 - HRLoader - INFO - Loading 6 records in batches of 50\n",
      "2025-10-14 17:10:53 - HRLoader - INFO - ✓ Loaded 6 records\n",
      "2025-10-14 17:10:53 - HRLoader - INFO - ✓ Loaded 6 locations\n",
      "2025-10-14 17:10:53 - HRLoader - INFO - Loading skills...\n",
      "2025-10-14 17:10:53 - HRLoader - INFO - Loading 50 records in batches of 50\n",
      "2025-10-14 17:10:53 - HRLoader - INFO - ✓ Loaded 50 records\n",
      "2025-10-14 17:10:53 - HRLoader - INFO - ✓ Loaded 50 skills\n",
      "2025-10-14 17:10:53 - HRLoader - INFO - Loading employees...\n",
      "2025-10-14 17:10:53 - HRLoader - INFO - Loading 200 records in batches of 100\n",
      "2025-10-14 17:10:53 - HRLoader - INFO - ✓ Loaded 200 records\n",
      "2025-10-14 17:10:53 - HRLoader - INFO - ✓ Loaded 200 employees with department and location relationships\n",
      "2025-10-14 17:10:53 - HRLoader - INFO - Loading manager relationships...\n",
      "2025-10-14 17:10:53 - HRLoader - INFO - Loading 189 records in batches of 100\n",
      "2025-10-14 17:10:54 - HRLoader - INFO - ✓ Loaded 189 records\n",
      "2025-10-14 17:10:54 - HRLoader - INFO - ✓ Loaded 189 manager relationships\n",
      "2025-10-14 17:10:54 - HRLoader - INFO - Loading employee-skill relationships...\n",
      "2025-10-14 17:10:54 - HRLoader - INFO - Loading 1496 records in batches of 500\n",
      "2025-10-14 17:10:54 - HRLoader - INFO - ✓ Loaded 1496 records\n",
      "2025-10-14 17:10:54 - HRLoader - INFO - ✓ Loaded 1496 employee-skill relationships\n",
      "2025-10-14 17:10:54 - HRLoader - INFO - \n",
      "Graph Statistics:\n",
      "2025-10-14 17:10:54 - HRLoader - INFO -   Total Nodes: 262\n",
      "2025-10-14 17:10:54 - HRLoader - INFO -   Total Relationships: 2,085\n",
      "2025-10-14 17:10:54 - HRLoader - INFO - \n",
      "✅ HR data load completed successfully!\n",
      "2025-10-14 17:10:54 - HRLoader - INFO - Neo4j connection closed\n",
      "2025-10-14 17:10:54 - MarketingLoader - INFO - Initialized MarketingLoader\n",
      "2025-10-14 17:10:54 - MarketingLoader - INFO - Connected to Neo4j at neo4j+s://561f8654.databases.neo4j.io\n"
     ]
    },
    {
     "name": "stdout",
     "output_type": "stream",
     "text": [
      "\n",
      "======================================================================\n",
      "HRLoader - Loading Statistics\n",
      "======================================================================\n",
      "\n",
      "⏱️  Duration: 2.40 seconds\n",
      "\n",
      "📊 Nodes Created:\n",
      "  Department                6\n",
      "  Location                  6\n",
      "  Skill                    50\n",
      "  Employee                200\n",
      "  ──────────────────────────────\n",
      "  Total                   262\n",
      "\n",
      "🔗 Relationships Created:\n",
      "  WORKS_IN                200\n",
      "  LOCATED_IN              200\n",
      "  REPORTS_TO              189\n",
      "  HAS_SKILL             1,496\n",
      "  ──────────────────────────────\n",
      "  Total                 2,085\n",
      "\n",
      "📈 Records:\n",
      "  Processed:   1,947\n",
      "  Failed:          0\n",
      "\n",
      "✅ No errors\n",
      "\n",
      "======================================================================\n",
      "  > HR nodes: 262, relationships: 2,085\n",
      "======================================================================\n",
      "[2] Loading Marketing data\n",
      "======================================================================\n",
      "- Testing connection...\n"
     ]
    },
    {
     "name": "stderr",
     "output_type": "stream",
     "text": [
      "2025-10-14 17:10:54 - MarketingLoader - INFO - ✓ Connection test successful\n",
      "2025-10-14 17:10:54 - MarketingLoader - INFO - Starting marketing data load\n",
      "2025-10-14 17:10:54 - MarketingLoader - INFO - Loading marketing dataset from /Users/ivan/FSFM/01_Courses/Coop/Helixgraph/HEL-20/HelixGraph/data/marketing/marketing_data.json\n",
      "2025-10-14 17:10:54 - MarketingLoader - INFO - Loaded marketing dataset: 600 campaigns, 10 brands\n",
      "2025-10-14 17:10:54 - MarketingLoader - INFO - Setting up marketing schema constraints and indexes\n"
     ]
    },
    {
     "name": "stdout",
     "output_type": "stream",
     "text": [
      "- Running loader...\n"
     ]
    },
    {
     "name": "stderr",
     "output_type": "stream",
     "text": [
      "2025-10-14 17:10:55 - MarketingLoader - INFO - Loading 10 records in batches of 200\n",
      "2025-10-14 17:10:55 - MarketingLoader - INFO - ✓ Loaded 10 records\n",
      "2025-10-14 17:10:55 - MarketingLoader - INFO - Loading 5 records in batches of 200\n",
      "2025-10-14 17:10:55 - MarketingLoader - INFO - ✓ Loaded 5 records\n",
      "2025-10-14 17:10:55 - MarketingLoader - INFO - Loading 5 records in batches of 200\n",
      "2025-10-14 17:10:55 - MarketingLoader - INFO - ✓ Loaded 5 records\n",
      "2025-10-14 17:10:55 - MarketingLoader - INFO - Loading 8 records in batches of 200\n",
      "2025-10-14 17:10:55 - MarketingLoader - INFO - ✓ Loaded 8 records\n",
      "2025-10-14 17:10:55 - MarketingLoader - INFO - Loading 600 records in batches of 200\n",
      "2025-10-14 17:10:56 - MarketingLoader - INFO - ✓ Loaded 600 records\n",
      "2025-10-14 17:10:56 - MarketingLoader - INFO - Loading 1793 records in batches of 500\n",
      "2025-10-14 17:10:57 - MarketingLoader - INFO - ✓ Loaded 1793 records\n",
      "2025-10-14 17:10:57 - MarketingLoader - INFO - Loading 8965 records in batches of 1000\n",
      "2025-10-14 17:10:58 - MarketingLoader - INFO - ✓ Loaded 8965 records\n",
      "2025-10-14 17:10:58 - MarketingLoader - INFO - Loading 1828 records in batches of 500\n",
      "2025-10-14 17:10:59 - MarketingLoader - INFO - ✓ Loaded 1828 records\n",
      "2025-10-14 17:11:00 - MarketingLoader - INFO - Marketing graph totals: 2718 nodes, 15875 relationships\n"
     ]
    },
    {
     "name": "stdout",
     "output_type": "stream",
     "text": [
      "\n",
      "======================================================================\n",
      "MarketingLoader - Loading Statistics\n",
      "======================================================================\n",
      "\n",
      "⏱️  Duration: 5.31 seconds\n",
      "\n",
      "📊 Nodes Created:\n",
      "  Brand                    10\n",
      "  MarketingObjective        5\n",
      "  MarketingKPI              5\n",
      "  MarketingChannel          8\n",
      "  MarketingCampaign       600\n",
      "  CommerceOrder         1,828\n",
      "  ──────────────────────────────\n",
      "  Total                 2,456\n",
      "\n",
      "🔗 Relationships Created:\n",
      "  FOR_BRAND               600\n",
      "  HAS_OBJECTIVE           600\n",
      "  ACTIVATED_ON          1,793\n",
      "  KPI_RESULT            8,965\n",
      "  ATTRIBUTED_TO         1,828\n",
      "  ──────────────────────────────\n",
      "  Total                13,786\n",
      "\n",
      "📈 Records:\n",
      "  Processed:  13,214\n",
      "  Failed:          0\n",
      "\n",
      "✅ No errors\n",
      "\n",
      "======================================================================\n"
     ]
    },
    {
     "name": "stderr",
     "output_type": "stream",
     "text": [
      "2025-10-14 17:11:00 - MarketingLoader - INFO - Neo4j connection closed\n",
      "2025-10-14 17:11:00 - ProcurementLoader - INFO - Initialized ProcurementLoader\n",
      "2025-10-14 17:11:00 - ProcurementLoader - INFO - Connected to Neo4j at neo4j+s://561f8654.databases.neo4j.io\n",
      "2025-10-14 17:11:00 - ProcurementLoader - INFO - ✓ Connection test successful\n",
      "2025-10-14 17:11:00 - ProcurementLoader - INFO - Starting procurement data load\n",
      "2025-10-14 17:11:00 - ProcurementLoader - INFO - Loading procurement dataset from /Users/ivan/FSFM/01_Courses/Coop/Helixgraph/HEL-20/HelixGraph/data/procurement/procurement_data.json\n"
     ]
    },
    {
     "name": "stdout",
     "output_type": "stream",
     "text": [
      "  > Marketing nodes: 2,718, relationships: 15,875\n",
      "======================================================================\n",
      "[3] Loading Procurement data\n",
      "======================================================================\n",
      "- Testing connection...\n",
      "- Running loader...\n"
     ]
    },
    {
     "name": "stderr",
     "output_type": "stream",
     "text": [
      "2025-10-14 17:11:00 - ProcurementLoader - INFO - Loaded procurement dataset: 150 suppliers, 313 contracts\n",
      "2025-10-14 17:11:00 - ProcurementLoader - INFO - Setting up procurement schema constraints and indexes\n",
      "2025-10-14 17:11:00 - ProcurementLoader - INFO - Loading 150 records in batches of 500\n",
      "2025-10-14 17:11:00 - ProcurementLoader - INFO - ✓ Loaded 150 records\n",
      "2025-10-14 17:11:00 - ProcurementLoader - INFO - Loading 313 records in batches of 500\n",
      "2025-10-14 17:11:00 - ProcurementLoader - INFO - ✓ Loaded 313 records\n",
      "2025-10-14 17:11:00 - ProcurementLoader - INFO - Loading 534 records in batches of 500\n",
      "2025-10-14 17:11:01 - ProcurementLoader - INFO - ✓ Loaded 534 records\n",
      "2025-10-14 17:11:01 - ProcurementLoader - INFO - Loading 1747 records in batches of 500\n",
      "2025-10-14 17:11:01 - ProcurementLoader - INFO - ✓ Loaded 1747 records\n",
      "2025-10-14 17:11:01 - ProcurementLoader - INFO - Loading 4331 records in batches of 1000\n",
      "2025-10-14 17:11:02 - ProcurementLoader - INFO - ✓ Loaded 4331 records\n",
      "2025-10-14 17:11:02 - ProcurementLoader - INFO - Procurement graph totals: 9793 nodes, 27131 relationships\n"
     ]
    },
    {
     "name": "stdout",
     "output_type": "stream",
     "text": [
      "\n",
      "======================================================================\n",
      "ProcurementLoader - Loading Statistics\n",
      "======================================================================\n",
      "\n",
      "⏱️  Duration: 2.30 seconds\n",
      "\n",
      "📊 Nodes Created:\n",
      "  Supplier                150\n",
      "  Contract                313\n",
      "  SupplierRisk            534\n",
      "  PurchaseOrder         1,747\n",
      "  PurchaseOrderLine     4,331\n",
      "  ──────────────────────────────\n",
      "  Total                 7,075\n",
      "\n",
      "🔗 Relationships Created:\n",
      "  HAS_CONTRACT            313\n",
      "  HAS_RISK                534\n",
      "  PLACED_ORDER          1,747\n",
      "  HAS_LINE              4,331\n",
      "  FULFILLED_BY          4,331\n",
      "  ──────────────────────────────\n",
      "  Total                11,256\n",
      "\n",
      "📈 Records:\n",
      "  Processed:   7,075\n",
      "  Failed:          0\n",
      "\n",
      "✅ No errors\n",
      "\n",
      "======================================================================\n"
     ]
    },
    {
     "name": "stderr",
     "output_type": "stream",
     "text": [
      "2025-10-14 17:11:02 - ProcurementLoader - INFO - Neo4j connection closed\n"
     ]
    },
    {
     "name": "stdout",
     "output_type": "stream",
     "text": [
      "  > Procurement nodes: 9,793, relationships: 27,131\n",
      "\n",
      "Combined graph statistics after all loads:\n",
      "  Total Nodes:         9,793\n",
      "  Total Relationships: 27,131\n",
      "\n",
      "  Nodes by Label:\n",
      "    PurchaseOrderLine     4,331\n",
      "    CommerceOrder         1,828\n",
      "    PurchaseOrder         1,747\n",
      "    MarketingCampaign       600\n",
      "    SupplierRisk            534\n",
      "    Contract                313\n",
      "    Employee                200\n",
      "    Supplier                150\n",
      "    Skill                    50\n",
      "    Brand                    10\n",
      "    MarketingChannel          8\n",
      "    Department                6\n",
      "    Location                  6\n",
      "    MarketingObjective        5\n",
      "    MarketingKPI              5\n",
      "\n",
      "  Relationships by Type:\n",
      "    KPI_RESULT            8,965\n",
      "    HAS_LINE              4,331\n",
      "    FULFILLED_BY          4,331\n",
      "    ATTRIBUTED_TO         1,828\n",
      "    ACTIVATED_ON          1,793\n",
      "    PLACED_ORDER          1,747\n",
      "    HAS_SKILL             1,496\n",
      "    FOR_BRAND               600\n",
      "    HAS_OBJECTIVE           600\n",
      "    HAS_RISK                534\n",
      "    HAS_CONTRACT            313\n",
      "    WORKS_IN                200\n",
      "    LOCATED_IN              200\n",
      "    REPORTS_TO              189\n",
      "    SUB_CHANNEL_OF            4\n",
      "\n",
      "✅ Multi-domain ETL pipeline completed!\n"
     ]
    }
   ],
   "source": [
    "from collections import defaultdict\n",
    "\n",
    "CLEAR_DATABASE_FIRST = True\n",
    "\n",
    "load_plan = [\n",
    "    (\"HR\", HRLoader, {\"batch_size\": 100}),\n",
    "    (\"Marketing\", MarketingLoader, {\"batch_size\": 500}),\n",
    "    (\"Procurement\", ProcurementLoader, {\"batch_size\": 500}),\n",
    "]\n",
    "\n",
    "final_stats = None\n",
    "\n",
    "for idx, (domain, loader_cls, loader_kwargs) in enumerate(load_plan, 1):\n",
    "    print(\"=\" * 70)\n",
    "    print(f\"[{idx}] Loading {domain} data\")\n",
    "    print(\"=\" * 70)\n",
    "\n",
    "    with loader_cls(**config, **loader_kwargs) as loader:\n",
    "        print(\"- Testing connection...\")\n",
    "        if not loader.test_connection():\n",
    "            print(\"✗ Connection failed. Aborting remaining loads.\")\n",
    "            break\n",
    "\n",
    "        if CLEAR_DATABASE_FIRST:\n",
    "            print(\"- Clearing database before first load...\")\n",
    "            loader.clear_database()\n",
    "            CLEAR_DATABASE_FIRST = False\n",
    "\n",
    "        print(\"- Running loader...\")\n",
    "        loader.load()\n",
    "\n",
    "        stats = loader.get_graph_statistics()\n",
    "        final_stats = stats\n",
    "        print(f\"  > {domain} nodes: {stats['total_nodes']:,}, relationships: {stats['total_relationships']:,}\")\n",
    "\n",
    "if final_stats:\n",
    "    print(\"\\nCombined graph statistics after all loads:\")\n",
    "    print(f\"  Total Nodes:         {final_stats['total_nodes']:,}\")\n",
    "    print(f\"  Total Relationships: {final_stats['total_relationships']:,}\")\n",
    "\n",
    "    print(\"\\n  Nodes by Label:\")\n",
    "    for label, count in final_stats['nodes_by_label'].items():\n",
    "        print(f\"    {label:20} {count:>6,}\")\n",
    "\n",
    "    print(\"\\n  Relationships by Type:\")\n",
    "    for rel_type, count in final_stats['relationships_by_type'].items():\n",
    "        print(f\"    {rel_type:20} {count:>6,}\")\n",
    "\n",
    "print(\"\\n✅ Multi-domain ETL pipeline completed!\")"
   ]
  }
 ],
 "metadata": {
  "kernelspec": {
   "display_name": "base",
   "language": "python",
   "name": "python3"
  },
  "language_info": {
   "codemirror_mode": {
    "name": "ipython",
    "version": 3
   },
   "file_extension": ".py",
   "mimetype": "text/x-python",
   "name": "python",
   "nbconvert_exporter": "python",
   "pygments_lexer": "ipython3",
   "version": "3.12.2"
  }
 },
 "nbformat": 4,
 "nbformat_minor": 4
}
